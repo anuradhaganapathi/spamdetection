{
 "cells": [
  {
   "cell_type": "code",
   "execution_count": 1,
   "id": "67b5a0cb",
   "metadata": {
    "_cell_guid": "b1076dfc-b9ad-4769-8c92-a6c4dae69d19",
    "_uuid": "8f2839f25d086af736a60e9eeb907d3b93b6e0e5",
    "execution": {
     "iopub.execute_input": "2024-04-28T09:21:07.121527Z",
     "iopub.status.busy": "2024-04-28T09:21:07.121081Z",
     "iopub.status.idle": "2024-04-28T09:21:08.104867Z",
     "shell.execute_reply": "2024-04-28T09:21:08.103517Z"
    },
    "papermill": {
     "duration": 0.992949,
     "end_time": "2024-04-28T09:21:08.108113",
     "exception": false,
     "start_time": "2024-04-28T09:21:07.115164",
     "status": "completed"
    },
    "tags": []
   },
   "outputs": [
    {
     "name": "stdout",
     "output_type": "stream",
     "text": [
      "/kaggle/input/spamdetection/spam.csv\n"
     ]
    }
   ],
   "source": [
    "# This Python 3 environment comes with many helpful analytics libraries installed\n",
    "# It is defined by the kaggle/python Docker image: https://github.com/kaggle/docker-python\n",
    "# For example, here's several helpful packages to load\n",
    "\n",
    "import numpy as np # linear algebra\n",
    "import pandas as pd # data processing, CSV file I/O (e.g. pd.read_csv)\n",
    "\n",
    "# Input data files are available in the read-only \"../input/\" directory\n",
    "# For example, running this (by clicking run or pressing Shift+Enter) will list all files under the input directory\n",
    "\n",
    "import os\n",
    "for dirname, _, filenames in os.walk('/kaggle/input'):\n",
    "    for filename in filenames:\n",
    "        print(os.path.join(dirname, filename))\n",
    "\n",
    "# You can write up to 20GB to the current directory (/kaggle/working/) that gets preserved as output when you create a version using \"Save & Run All\" \n",
    "# You can also write temporary files to /kaggle/temp/, but they won't be saved outside of the current session"
   ]
  },
  {
   "cell_type": "code",
   "execution_count": 2,
   "id": "bd119872",
   "metadata": {
    "execution": {
     "iopub.execute_input": "2024-04-28T09:21:08.118194Z",
     "iopub.status.busy": "2024-04-28T09:21:08.117674Z",
     "iopub.status.idle": "2024-04-28T09:21:09.899209Z",
     "shell.execute_reply": "2024-04-28T09:21:09.897870Z"
    },
    "papermill": {
     "duration": 1.789241,
     "end_time": "2024-04-28T09:21:09.901826",
     "exception": false,
     "start_time": "2024-04-28T09:21:08.112585",
     "status": "completed"
    },
    "tags": []
   },
   "outputs": [],
   "source": [
    "import numpy as np\n",
    "import pandas as pd\n",
    "from sklearn.naive_bayes import MultinomialNB\n",
    "from sklearn.feature_extraction.text import CountVectorizer\n",
    "from sklearn.model_selection import train_test_split  \n",
    "from sklearn.metrics import accuracy_score \n",
    "from sklearn.metrics import confusion_matrix\n",
    "from sklearn. metrics import classification_report, roc_auc_score, roc_curve\n",
    "import pickle\n",
    "import matplotlib.pyplot as plt\n",
    "from sklearn import metrics\n",
    "import seaborn as sns\n",
    "import matplotlib.pyplot as plt\n",
    "%matplotlib inline\n",
    "\n",
    "import warnings\n",
    "warnings.filterwarnings('ignore')"
   ]
  },
  {
   "cell_type": "code",
   "execution_count": 3,
   "id": "aec206df",
   "metadata": {
    "execution": {
     "iopub.execute_input": "2024-04-28T09:21:09.911278Z",
     "iopub.status.busy": "2024-04-28T09:21:09.910512Z",
     "iopub.status.idle": "2024-04-28T09:21:09.920864Z",
     "shell.execute_reply": "2024-04-28T09:21:09.919693Z"
    },
    "papermill": {
     "duration": 0.01769,
     "end_time": "2024-04-28T09:21:09.923203",
     "exception": false,
     "start_time": "2024-04-28T09:21:09.905513",
     "status": "completed"
    },
    "tags": []
   },
   "outputs": [],
   "source": [
    "import seaborn as sns\n",
    "sns.set_theme(context='notebook',\n",
    "             style='whitegrid',\n",
    "             palette='seismic',\n",
    "             font='Lucida Calligraphy',\n",
    "             font_scale=1.5,\n",
    "             rc=None)\n",
    "import matplotlib\n",
    "matplotlib.rcParams['figure.figsize'] = [8,8]\n",
    "matplotlib.rcParams.update({'font.size': 15})"
   ]
  },
  {
   "cell_type": "code",
   "execution_count": 4,
   "id": "ac4ff29a",
   "metadata": {
    "execution": {
     "iopub.execute_input": "2024-04-28T09:21:09.932242Z",
     "iopub.status.busy": "2024-04-28T09:21:09.931596Z",
     "iopub.status.idle": "2024-04-28T09:21:09.982843Z",
     "shell.execute_reply": "2024-04-28T09:21:09.981720Z"
    },
    "papermill": {
     "duration": 0.058914,
     "end_time": "2024-04-28T09:21:09.985671",
     "exception": false,
     "start_time": "2024-04-28T09:21:09.926757",
     "status": "completed"
    },
    "tags": []
   },
   "outputs": [
    {
     "name": "stdout",
     "output_type": "stream",
     "text": [
      "     c1                                                 c2 Unnamed: 2  \\\n",
      "0   ham  Go until jurong point, crazy.. Available only ...        NaN   \n",
      "1   ham                      Ok lar... Joking wif u oni...        NaN   \n",
      "2  spam  Free entry in 2 a wkly comp to win FA Cup fina...        NaN   \n",
      "3   ham  U dun say so early hor... U c already then say...        NaN   \n",
      "4   ham  Nah I don't think he goes to usf, he lives aro...        NaN   \n",
      "\n",
      "  Unnamed: 3 Unnamed: 4  \n",
      "0        NaN        NaN  \n",
      "1        NaN        NaN  \n",
      "2        NaN        NaN  \n",
      "3        NaN        NaN  \n",
      "4        NaN        NaN  \n"
     ]
    }
   ],
   "source": [
    "data = pd.read_csv(\"/kaggle/input/spamdetection/spam.csv\",encoding='latin-1')\n",
    "print(data.head())"
   ]
  },
  {
   "cell_type": "code",
   "execution_count": 5,
   "id": "8c1e4d4c",
   "metadata": {
    "execution": {
     "iopub.execute_input": "2024-04-28T09:21:09.996080Z",
     "iopub.status.busy": "2024-04-28T09:21:09.994262Z",
     "iopub.status.idle": "2024-04-28T09:21:10.002032Z",
     "shell.execute_reply": "2024-04-28T09:21:10.001135Z"
    },
    "papermill": {
     "duration": 0.014478,
     "end_time": "2024-04-28T09:21:10.003942",
     "exception": false,
     "start_time": "2024-04-28T09:21:09.989464",
     "status": "completed"
    },
    "tags": []
   },
   "outputs": [
    {
     "data": {
      "text/plain": [
       "27860"
      ]
     },
     "execution_count": 5,
     "metadata": {},
     "output_type": "execute_result"
    }
   ],
   "source": [
    "data.shape\n",
    "data.size"
   ]
  },
  {
   "cell_type": "code",
   "execution_count": 6,
   "id": "d66b9298",
   "metadata": {
    "execution": {
     "iopub.execute_input": "2024-04-28T09:21:10.013587Z",
     "iopub.status.busy": "2024-04-28T09:21:10.012961Z",
     "iopub.status.idle": "2024-04-28T09:21:10.027939Z",
     "shell.execute_reply": "2024-04-28T09:21:10.026611Z"
    },
    "papermill": {
     "duration": 0.022981,
     "end_time": "2024-04-28T09:21:10.030687",
     "exception": false,
     "start_time": "2024-04-28T09:21:10.007706",
     "status": "completed"
    },
    "tags": []
   },
   "outputs": [
    {
     "data": {
      "text/plain": [
       "c1\n",
       "ham     4825\n",
       "spam     747\n",
       "Name: count, dtype: int64"
      ]
     },
     "execution_count": 6,
     "metadata": {},
     "output_type": "execute_result"
    }
   ],
   "source": [
    "data['c1'].value_counts()"
   ]
  },
  {
   "cell_type": "code",
   "execution_count": 7,
   "id": "f15750fa",
   "metadata": {
    "execution": {
     "iopub.execute_input": "2024-04-28T09:21:10.040663Z",
     "iopub.status.busy": "2024-04-28T09:21:10.040257Z",
     "iopub.status.idle": "2024-04-28T09:21:10.368547Z",
     "shell.execute_reply": "2024-04-28T09:21:10.367315Z"
    },
    "papermill": {
     "duration": 0.336249,
     "end_time": "2024-04-28T09:21:10.371016",
     "exception": false,
     "start_time": "2024-04-28T09:21:10.034767",
     "status": "completed"
    },
    "tags": []
   },
   "outputs": [
    {
     "data": {
      "text/plain": [
       "Text(0.5, 1.0, 'c1')"
      ]
     },
     "execution_count": 7,
     "metadata": {},
     "output_type": "execute_result"
    },
    {
     "data": {
      "image/png": "[encoded data removed]",
      "text/plain": [
       "<Figure size 1400x600 with 1 Axes>"
      ]
     },
     "metadata": {},
     "output_type": "display_data"
    }
   ],
   "source": [
    "plt.figure(figsize=(14,6))\n",
    "ax = plt.subplot(1,2,1)\n",
    "ax = sns.countplot(x='c1', data= data)\n",
    "plt.title(\"c1\",fontsize=20)"
   ]
  },
  {
   "cell_type": "code",
   "execution_count": 8,
   "id": "c7a5aa95",
   "metadata": {
    "execution": {
     "iopub.execute_input": "2024-04-28T09:21:10.381304Z",
     "iopub.status.busy": "2024-04-28T09:21:10.380900Z",
     "iopub.status.idle": "2024-04-28T09:21:10.389184Z",
     "shell.execute_reply": "2024-04-28T09:21:10.388125Z"
    },
    "papermill": {
     "duration": 0.016065,
     "end_time": "2024-04-28T09:21:10.391422",
     "exception": false,
     "start_time": "2024-04-28T09:21:10.375357",
     "status": "completed"
    },
    "tags": []
   },
   "outputs": [],
   "source": [
    "# Remove missing values\n",
    "data = data.drop(['Unnamed: 2','Unnamed: 3','Unnamed: 4'],axis=1)"
   ]
  },
  {
   "cell_type": "code",
   "execution_count": 9,
   "id": "994d8f34",
   "metadata": {
    "execution": {
     "iopub.execute_input": "2024-04-28T09:21:10.402417Z",
     "iopub.status.busy": "2024-04-28T09:21:10.401348Z",
     "iopub.status.idle": "2024-04-28T09:21:10.411542Z",
     "shell.execute_reply": "2024-04-28T09:21:10.410352Z"
    },
    "papermill": {
     "duration": 0.01828,
     "end_time": "2024-04-28T09:21:10.414016",
     "exception": false,
     "start_time": "2024-04-28T09:21:10.395736",
     "status": "completed"
    },
    "tags": []
   },
   "outputs": [],
   "source": [
    "# Remove duplicates\n",
    "data = data.drop_duplicates(keep='first')"
   ]
  },
  {
   "cell_type": "code",
   "execution_count": 10,
   "id": "cd37f7a7",
   "metadata": {
    "execution": {
     "iopub.execute_input": "2024-04-28T09:21:10.424406Z",
     "iopub.status.busy": "2024-04-28T09:21:10.423995Z",
     "iopub.status.idle": "2024-04-28T09:21:10.433446Z",
     "shell.execute_reply": "2024-04-28T09:21:10.432436Z"
    },
    "papermill": {
     "duration": 0.017478,
     "end_time": "2024-04-28T09:21:10.435776",
     "exception": false,
     "start_time": "2024-04-28T09:21:10.418298",
     "status": "completed"
    },
    "tags": []
   },
   "outputs": [
    {
     "data": {
      "text/plain": [
       "0"
      ]
     },
     "execution_count": 10,
     "metadata": {},
     "output_type": "execute_result"
    }
   ],
   "source": [
    "data.duplicated().sum()"
   ]
  },
  {
   "cell_type": "code",
   "execution_count": null,
   "id": "589bc1ff",
   "metadata": {
    "papermill": {
     "duration": 0.004192,
     "end_time": "2024-04-28T09:21:10.444408",
     "exception": false,
     "start_time": "2024-04-28T09:21:10.440216",
     "status": "completed"
    },
    "tags": []
   },
   "outputs": [],
   "source": []
  }
 ],
 "metadata": {
  "kaggle": {
   "accelerator": "none",
   "dataSources": [
    {
     "datasetId": 4896130,
     "sourceId": 8251517,
     "sourceType": "datasetVersion"
    }
   ],
   "dockerImageVersionId": 30698,
   "isGpuEnabled": false,
   "isInternetEnabled": false,
   "language": "python",
   "sourceType": "notebook"
  },
  "kernelspec": {
   "display_name": "Python 3",
   "language": "python",
   "name": "python3"
  },
  "language_info": {
   "codemirror_mode": {
    "name": "ipython",
    "version": 3
   },
   "file_extension": ".py",
   "mimetype": "text/x-python",
   "name": "python",
   "nbconvert_exporter": "python",
   "pygments_lexer": "ipython3",
   "version": "3.10.13"
  },
  "papermill": {
   "default_parameters": {},
   "duration": 6.927581,
   "end_time": "2024-04-28T09:21:11.071193",
   "environment_variables": {},
   "exception": null,
   "input_path": "__notebook__.ipynb",
   "output_path": "__notebook__.ipynb",
   "parameters": {},
   "start_time": "2024-04-28T09:21:04.143612",
   "version": "2.5.0"
  }
 },
 "nbformat": 4,
 "nbformat_minor": 5
}
